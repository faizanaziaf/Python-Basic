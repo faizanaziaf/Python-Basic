{
  "nbformat": 4,
  "nbformat_minor": 0,
  "metadata": {
    "colab": {
      "provenance": []
    },
    "kernelspec": {
      "name": "python3",
      "display_name": "Python 3"
    },
    "language_info": {
      "name": "python"
    }
  },
  "cells": [
    {
      "cell_type": "code",
      "execution_count": null,
      "metadata": {
        "id": "cxwK57lK4jOq"
      },
      "outputs": [],
      "source": []
    },
    {
      "cell_type": "markdown",
      "source": [
        "Q1. What is Python, and why is it popular?\n",
        "\n",
        "A1. Python is a high-level, interpreted programming language known for its simplicity and readability, making it easy to learn, especially for beginners. It is popular because of its versatility and wide range of applications, including web development, machine learning, artificial intelligence, data science, and game development.\n",
        "\n",
        "Q2. What is an interpreter in Python?\n",
        "\n",
        "A2. In Python, an interpreter is a program that executes code line-by-line. This helps identify errors quickly and makes debugging easier.\n",
        "\n",
        "Q3. What are pre-defined keywords in Python?\n",
        "\n",
        "A3. In Python, predefined keywords are reserved words that are part of the language syntax. Examples include `if`, `else`, `True`, `False`, `None`, `def`, and `import`. These keywords cannot be used as variable names or identifiers.\n",
        "\n",
        "Q4. Can keywords be used as variable names?\n",
        "\n",
        "A4. In Python, predefined keywords cannot be used as variable names or identifiers.\n",
        "\n",
        "Q5. What is mutability in Python?\n",
        "\n",
        "A5. Mutability in Python refers to the ability of an object to be modified after it is created. For example, lists are mutable, so you can change their elements, while immutable objects like strings and tuples cannot be modified once created.\n",
        "\n",
        "Q6. Why are lists mutable, but tuples are immutable?\n",
        "\n",
        "A6. Lists (Mutable): Like a shopping cart, where you can add or remove items.\n",
        "Tuples (Immutable): Like coordinates (latitude, longitude), which remain constant and cannot be changed.\n",
        "\n",
        "Q7. What is the difference between “==” and “is” operators in Python?\n",
        "\n",
        "A7. == checks if the values are the same, while 'is' checks if both variables point to the same memory location.\n",
        "\n",
        "Q8. What are logical operators in Python?\n",
        "\n",
        "A8. Logical operators in Python are used to combine conditional statements:\n",
        "and: Returns True if both conditions are True. Example: True and True gives True.\n",
        "or: Returns True if at least one condition is True. Example: True or False gives True.\n",
        "not: Reverses the Boolean value. Example: not True gives False.\n",
        "\n",
        "Q9. What is type casting in Python?\n",
        "\n",
        "A9. type casting is used for changing data type with different type\n",
        "example -\n",
        "String str = \"1\";\n",
        "int i = int(str);\n",
        "\n",
        "Q10. What is the difference between implicit and explicit type casting?\n",
        "\n",
        "A10. Implicit Type Casting: Done automatically by Python (e.g., 5 + 2.0 → 7.0).\n",
        "Explicit Type Casting: Done manually using functions like int(), float(), or str().\n",
        "\n",
        "Q11. What is the purpose of conditional statements in Python?\n",
        "\n",
        "A11. Conditional statements allow you to execute code based on specific conditions. They help control the program's flow and make it respond dynamically, enhancing interactivity and user-friendliness.\n",
        "\n",
        "Q12. How does the elif statement work?\n",
        "\n",
        "A12. The elif statement checks an alternate condition if the if condition is False. If the elif condition is True, its block of code executes.\n",
        "\n",
        "Q13. What is the difference between for and while loops?\n",
        "\n",
        "A13. For Loop: Used when the number of iterations is known. It is concise and iterates over sequences like lists or ranges.\n",
        "While Loop: Used when the number of iterations is unknown and depends on a condition. It may require more code for initialization and condition checks.\n",
        "\n",
        "Q14. Describe a scenario where a while loop is more suitable than a for loop.\n",
        "\n",
        "A14. A while loop is more suitable when the number of iterations is unknown and depends on a condition.\n",
        "\n",
        "Scenario:\n",
        "Imagine a situation where a user must enter the correct password to log in. You don't know how many attempts they'll need, so a while loop works best.\n"
      ],
      "metadata": {
        "id": "P8JfpefCKp9U"
      }
    },
    {
      "cell_type": "code",
      "source": [
        "#Write a Python program to print \"Hello, World!?\n",
        "print(\"Hello, World!\")"
      ],
      "metadata": {
        "colab": {
          "base_uri": "https://localhost:8080/"
        },
        "id": "O8s1EC2rd3pj",
        "outputId": "30da9b5d-5307-4329-b79b-c93bf163f43d"
      },
      "execution_count": null,
      "outputs": [
        {
          "output_type": "stream",
          "name": "stdout",
          "text": [
            "Hello, World!\n"
          ]
        }
      ]
    },
    {
      "cell_type": "code",
      "source": [
        "# Write a Python program that displays your name and age?\n",
        "name = input(\"please enter your name: \")\n",
        "age = input(\"please enter your age: \")\n",
        "print(\"Name:\", name, \"Age:\", age)"
      ],
      "metadata": {
        "colab": {
          "base_uri": "https://localhost:8080/"
        },
        "id": "Mw_RGqPvon_7",
        "outputId": "22fb990c-9731-4148-8d1f-f17dc2042558"
      },
      "execution_count": null,
      "outputs": [
        {
          "output_type": "stream",
          "name": "stdout",
          "text": [
            "please enter your name: Faizan\n",
            "please enter your age: 25\n",
            "Name: Faizan Age: 25\n"
          ]
        }
      ]
    },
    {
      "cell_type": "code",
      "source": [
        "#  Write code to print all the pre-defined keywords in Python using the keyword library?\n",
        "import keyword\n",
        "print(keyword.kwlist)"
      ],
      "metadata": {
        "colab": {
          "base_uri": "https://localhost:8080/"
        },
        "id": "0bHp60f3rPXE",
        "outputId": "9aea99f5-a58a-4f43-d842-a2496f6508c1"
      },
      "execution_count": null,
      "outputs": [
        {
          "output_type": "stream",
          "name": "stdout",
          "text": [
            "['False', 'None', 'True', 'and', 'as', 'assert', 'async', 'await', 'break', 'class', 'continue', 'def', 'del', 'elif', 'else', 'except', 'finally', 'for', 'from', 'global', 'if', 'import', 'in', 'is', 'lambda', 'nonlocal', 'not', 'or', 'pass', 'raise', 'return', 'try', 'while', 'with', 'yield']\n"
          ]
        }
      ]
    },
    {
      "cell_type": "code",
      "source": [
        "# Write a program that checks if a given word is a Python keyword?\n",
        "word = input(\"Enter a word: \")\n",
        "if keyword.iskeyword(word):\n",
        "    print(f\"{word} is a Python keyword.\")\n",
        "else:\n",
        "    print(f\"{word} is not a Python keyword.\")"
      ],
      "metadata": {
        "colab": {
          "base_uri": "https://localhost:8080/"
        },
        "id": "mGiT1HZ8rpXv",
        "outputId": "83aae20f-4e05-4b8f-de01-c394f6c3de32"
      },
      "execution_count": null,
      "outputs": [
        {
          "output_type": "stream",
          "name": "stdout",
          "text": [
            "Enter a word: else\n",
            "else is a Python keyword.\n"
          ]
        }
      ]
    },
    {
      "cell_type": "code",
      "source": [
        "# Create a list and tuple in Python, and demonstrate how attempting to change an element works differently for each.\n",
        "# Create a list\n",
        "my_list = [1, 2, 3]\n",
        "print(\"Original list:\", my_list)\n",
        "\n",
        "my_list[1] = 99\n",
        "print(\"Modified list:\", my_list)\n",
        "\n",
        "my_tuple = (1, 2, 3)\n",
        "print(\"\\nOriginal tuple:\", my_tuple)\n",
        "\n",
        "# Attempt to modify an element in the tuple\n",
        "try:\n",
        "    my_tuple[1] = 99\n",
        "except TypeError as e:\n",
        "    print(\"Error:\", e)\n"
      ],
      "metadata": {
        "id": "reESM4XUs2s6",
        "colab": {
          "base_uri": "https://localhost:8080/"
        },
        "outputId": "da04a915-0a32-47ed-a35f-15afbb2669f2"
      },
      "execution_count": 8,
      "outputs": [
        {
          "output_type": "stream",
          "name": "stdout",
          "text": [
            "Original list: [1, 2, 3]\n",
            "Modified list: [1, 99, 3]\n",
            "\n",
            "Original tuple: (1, 2, 3)\n",
            "Error: 'tuple' object does not support item assignment\n"
          ]
        }
      ]
    },
    {
      "cell_type": "code",
      "source": [
        "#Write a function to demonstrate the behavior of mutable and immutable arguments?\n",
        "# Function to demonstrate mutable argument behavior\n",
        "def modify_list(my_list):\n",
        "    my_list.append(4)  # Modify the list by adding an element\n",
        "    print(\"Inside function (after modification):\", my_list)\n",
        "\n",
        "# Function to demonstrate immutable argument behavior\n",
        "def modify_number(num):\n",
        "    num += 5  # Attempt to modify the number\n",
        "    print(\"Inside function (after modification):\", num)\n",
        "\n",
        "# Mutable argument example\n",
        "my_list = [1, 2, 3]\n",
        "print(\"Original list:\", my_list)\n",
        "modify_list(my_list)\n",
        "print(\"Outside function (after function call):\", my_list)\n",
        "\n",
        "print(\"\\n------------------------\\n\")\n",
        "\n",
        "# Immutable argument example\n",
        "my_number = 10\n",
        "print(\"Original number:\", my_number)\n",
        "modify_number(my_number)\n",
        "print(\"Outside function (after function call):\", my_number)"
      ],
      "metadata": {
        "colab": {
          "base_uri": "https://localhost:8080/"
        },
        "id": "KM9H57WYQsPF",
        "outputId": "76415ab6-a947-416c-a27a-5a86f5da37e0"
      },
      "execution_count": 9,
      "outputs": [
        {
          "output_type": "stream",
          "name": "stdout",
          "text": [
            "Original list: [1, 2, 3]\n",
            "Inside function (after modification): [1, 2, 3, 4]\n",
            "Outside function (after function call): [1, 2, 3, 4]\n",
            "\n",
            "------------------------\n",
            "\n",
            "Original number: 10\n",
            "Inside function (after modification): 15\n",
            "Outside function (after function call): 10\n"
          ]
        }
      ]
    },
    {
      "cell_type": "code",
      "source": [
        "# Write a function to demonstrate the behavior of mutable and immutable arguments0\n",
        "# Function to show behavior with a mutable argument (list)\n",
        "def modify_list(my_list):\n",
        "    my_list.append(100)  # Add an element to the list\n",
        "    print(\"Inside function:\", my_list)\n",
        "\n",
        "# Function to show behavior with an immutable argument (integer)\n",
        "def modify_number(num):\n",
        "    num = num + 10  # Try to modify the number\n",
        "    print(\"Inside function:\", num)\n",
        "\n",
        "# Example with a list (mutable)\n",
        "numbers = [1, 2, 3]\n",
        "print(\"Before function call:\", numbers)\n",
        "modify_list(numbers)\n",
        "print(\"After function call:\", numbers)\n",
        "\n",
        "print(\"----------------------\")\n",
        "\n",
        "# Example with an integer (immutable)\n",
        "value = 5\n",
        "print(\"Before function call:\", value)\n",
        "modify_number(value)\n",
        "print(\"After function call:\", value)"
      ],
      "metadata": {
        "colab": {
          "base_uri": "https://localhost:8080/"
        },
        "id": "5Q9V0rUFRvXn",
        "outputId": "395901c6-ade7-4b03-d189-b047b3e4c220"
      },
      "execution_count": 10,
      "outputs": [
        {
          "output_type": "stream",
          "name": "stdout",
          "text": [
            "Before function call: [1, 2, 3]\n",
            "Inside function: [1, 2, 3, 100]\n",
            "After function call: [1, 2, 3, 100]\n",
            "----------------------\n",
            "Before function call: 5\n",
            "Inside function: 15\n",
            "After function call: 5\n"
          ]
        }
      ]
    },
    {
      "cell_type": "code",
      "source": [
        "# Write a program to demonstrate the use of logical operators0\n",
        "# 'and' operator\n",
        "is_raining = True\n",
        "have_umbrella = False\n",
        "if is_raining and have_umbrella:\n",
        "    print(\"You can go outside.\")\n",
        "else:\n",
        "    print(\"You might get wet!\")\n",
        "\n",
        "# 'or' operator\n",
        "is_sunny = True\n",
        "is_warm = False\n",
        "if is_sunny or is_warm:\n",
        "    print(\"It's a nice day.\")\n",
        "\n",
        "# 'not' operator\n",
        "is_tired = False\n",
        "if not is_tired:\n",
        "    print(\"You can play!\")"
      ],
      "metadata": {
        "colab": {
          "base_uri": "https://localhost:8080/"
        },
        "id": "XeEEjG6GSFKD",
        "outputId": "9227cd9b-6c18-49cf-85af-aeb163ee20a0"
      },
      "execution_count": 11,
      "outputs": [
        {
          "output_type": "stream",
          "name": "stdout",
          "text": [
            "You might get wet!\n",
            "It's a nice day.\n",
            "You can play!\n"
          ]
        }
      ]
    },
    {
      "cell_type": "code",
      "source": [
        "# Write a Python program to convert user input from string to integer, float, and boolean types.\n",
        "# Take user input as a string\n",
        "user_input = input(\"Enter a value: \")\n",
        "\n",
        "# Convert to integer\n",
        "try:\n",
        "    int_value = int(user_input)\n",
        "    print(\"Integer value:\", int_value)\n",
        "except ValueError:\n",
        "    print(\"Cannot convert to integer.\")\n",
        "\n",
        "# Convert to float\n",
        "try:\n",
        "    float_value = float(user_input)\n",
        "    print(\"Float value:\", float_value)\n",
        "except ValueError:\n",
        "    print(\"Cannot convert to float.\")\n",
        "\n",
        "# Convert to boolean\n",
        "bool_value = bool(user_input)\n",
        "print(\"Boolean value:\", bool_value)"
      ],
      "metadata": {
        "colab": {
          "base_uri": "https://localhost:8080/"
        },
        "id": "1hetNh5ESkBl",
        "outputId": "5e6e53b5-517b-4846-c2d2-23ce70748d32"
      },
      "execution_count": 12,
      "outputs": [
        {
          "output_type": "stream",
          "name": "stdout",
          "text": [
            "Enter a value: 3\n",
            "Integer value: 3\n",
            "Float value: 3.0\n",
            "Boolean value: True\n"
          ]
        }
      ]
    },
    {
      "cell_type": "code",
      "source": [
        "# Write code to demonstrate type casting with list elements?\n",
        "# Original list with string elements\n",
        "str_list = [\"1\", \"2\", \"3\", \"4.5\", \"5.5\"]\n",
        "\n",
        "# Convert string elements to integers where possible\n",
        "int_list = [int(x) for x in str_list if x.isdigit()]\n",
        "print(\"List with integers:\", int_list)\n",
        "\n",
        "# Convert string elements to floats\n",
        "float_list = [float(x) for x in str_list]\n",
        "print(\"List with floats:\", float_list)\n",
        "\n",
        "# Convert string elements to booleans\n",
        "bool_list = [bool(x) for x in str_list]\n",
        "print(\"List with booleans:\", bool_list)"
      ],
      "metadata": {
        "colab": {
          "base_uri": "https://localhost:8080/"
        },
        "id": "Zi5-aHgsS40C",
        "outputId": "856cd9bd-d543-4e76-be03-05f2806a0c3b"
      },
      "execution_count": 13,
      "outputs": [
        {
          "output_type": "stream",
          "name": "stdout",
          "text": [
            "List with integers: [1, 2, 3]\n",
            "List with floats: [1.0, 2.0, 3.0, 4.5, 5.5]\n",
            "List with booleans: [True, True, True, True, True]\n"
          ]
        }
      ]
    },
    {
      "cell_type": "code",
      "source": [
        "# Write a program that checks if a number is positive, negative, or zero?\n",
        "# Get user input\n",
        "num = float(input(\"Enter a number: \"))\n",
        "\n",
        "# Check if the number is positive, negative, or zero\n",
        "if num > 0:\n",
        "    print(\"The number is positive.\")\n",
        "elif num < 0:\n",
        "    print(\"The number is negative.\")\n",
        "else:\n",
        "    print(\"The number is zero.\")"
      ],
      "metadata": {
        "colab": {
          "base_uri": "https://localhost:8080/"
        },
        "id": "cJ7uRFHnTJLa",
        "outputId": "dca41644-0647-4bd8-d7dd-3aa548fed0d4"
      },
      "execution_count": 14,
      "outputs": [
        {
          "output_type": "stream",
          "name": "stdout",
          "text": [
            "Enter a number: 6\n",
            "The number is positive.\n"
          ]
        }
      ]
    },
    {
      "cell_type": "code",
      "source": [
        "# Write a for loop to print numbers from 1 to 100?\n",
        "for i in range(1, 101):\n",
        "    print(i, end=\" \")"
      ],
      "metadata": {
        "colab": {
          "base_uri": "https://localhost:8080/"
        },
        "id": "LRDId6YETkTS",
        "outputId": "cd0d32ff-b28c-4f8d-f185-95c516594115"
      },
      "execution_count": 16,
      "outputs": [
        {
          "output_type": "stream",
          "name": "stdout",
          "text": [
            "1 2 3 4 5 6 7 8 9 10 11 12 13 14 15 16 17 18 19 20 21 22 23 24 25 26 27 28 29 30 31 32 33 34 35 36 37 38 39 40 41 42 43 44 45 46 47 48 49 50 51 52 53 54 55 56 57 58 59 60 61 62 63 64 65 66 67 68 69 70 71 72 73 74 75 76 77 78 79 80 81 82 83 84 85 86 87 88 89 90 91 92 93 94 95 96 97 98 99 100 "
          ]
        }
      ]
    },
    {
      "cell_type": "code",
      "source": [
        "# Write a Python program to find the sum of all even numbers between 1 and 50.\n",
        "sum_even_numbers = 0\n",
        "\n",
        "# Loop through numbers from 1 to 50\n",
        "for num in range(1, 51):\n",
        "    if num % 2 == 0:  # Check if the number is even\n",
        "        sum_even_numbers += num  # Add even number to the sum\n",
        "\n",
        "# Print the result\n",
        "print(\"The sum of all even numbers between 1 and 50 is:\", sum_even_numbers)\n"
      ],
      "metadata": {
        "colab": {
          "base_uri": "https://localhost:8080/"
        },
        "id": "QJGacK2CVYF_",
        "outputId": "0de08ab0-f232-427c-dbe7-a8f1cb1ba39d"
      },
      "execution_count": 17,
      "outputs": [
        {
          "output_type": "stream",
          "name": "stdout",
          "text": [
            "The sum of all even numbers between 1 and 50 is: 650\n"
          ]
        }
      ]
    },
    {
      "cell_type": "code",
      "source": [
        "# Write a program to reverse a string using a while loop?\n",
        "# Input string from the user\n",
        "input_string = input(\"Enter a string: \")\n",
        "\n",
        "# Initialize an empty string to store the reversed string\n",
        "reversed_string = \"\"\n",
        "\n",
        "# Initialize a variable to track the position of characters in the string\n",
        "index = len(input_string) - 1\n",
        "\n",
        "# Loop through the string in reverse order\n",
        "while index >= 0:\n",
        "    reversed_string += input_string[index]  # Add the character to the reversed string\n",
        "    index -= 1  # Move to the previous character\n",
        "\n",
        "# Print the reversed string\n",
        "print(\"Reversed string:\", reversed_string)"
      ],
      "metadata": {
        "colab": {
          "base_uri": "https://localhost:8080/"
        },
        "id": "tX6cbLZDWbuR",
        "outputId": "27778cc1-9c4d-496f-902c-41773c3548a7"
      },
      "execution_count": 18,
      "outputs": [
        {
          "output_type": "stream",
          "name": "stdout",
          "text": [
            "Enter a string: Faizan\n",
            "Reversed string: naziaF\n"
          ]
        }
      ]
    },
    {
      "cell_type": "code",
      "source": [
        "# Write a Python program to calculate the factorial of a number provided by the user using a while loop.\n",
        "# Input number from the user\n",
        "num = int(input(\"Enter a number: \"))\n",
        "\n",
        "# Initialize the factorial to 1\n",
        "factorial = 1\n",
        "\n",
        "# Use a while loop to calculate the factorial\n",
        "while num > 1:\n",
        "    factorial *= num  # Multiply the current number with the factorial\n",
        "    num -= 1  # Decrease the number by 1\n",
        "\n",
        "# Print the result\n",
        "print(\"The factorial is:\", factorial)"
      ],
      "metadata": {
        "colab": {
          "base_uri": "https://localhost:8080/"
        },
        "id": "C4loHbqDWvl6",
        "outputId": "dd9ccace-49ea-4f24-d82d-48f114f2a5dd"
      },
      "execution_count": 19,
      "outputs": [
        {
          "output_type": "stream",
          "name": "stdout",
          "text": [
            "Enter a number: 6\n",
            "The factorial is: 720\n"
          ]
        }
      ]
    }
  ]
}